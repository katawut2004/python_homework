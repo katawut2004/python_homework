{
 "cells": [
  {
   "cell_type": "markdown",
   "metadata": {},
   "source": [
    "# แบบฝึกหัดบทที่ 4 พื้นฐานโปรแกรมไพธอน"
   ]
  },
  {
   "cell_type": "code",
   "execution_count": null,
   "metadata": {},
   "outputs": [],
   "source": [
    "\"\"\" \n",
    "ชื่อ - สกุล - รหัสนักศึกษา\n",
    "\n",
    "คฑาวุธ ผ่องราษี 6612732105\n",
    "\"\"\""
   ]
  },
  {
   "cell_type": "markdown",
   "metadata": {},
   "source": [
    "## 1. จงอธิบายความหมายของคำว่า Syntax"
   ]
  },
  {
   "cell_type": "markdown",
   "metadata": {},
   "source": [
    "# คำตอบ\n",
    "Syntax หมายถึง กฎที่ระบุสัญลักษณ์ที่ถูกต้อง ซึ่งสามารถนำมาใช้เพื่อจัดรูปแบบโปรแกรมที่มีโครงสร้างถูกต้อง โดยใช้ภาษาโปรแกรมที่กําหนด"
   ]
  },
  {
   "cell_type": "markdown",
   "metadata": {},
   "source": [
    "## 2.จงอธิบายความหมายของคำว่า Semantics"
   ]
  },
  {
   "cell_type": "code",
   "execution_count": null,
   "metadata": {},
   "outputs": [],
   "source": [
    "#คำตอบ\n",
    "ความหมาย (Semantics) และหลักภาษา (Grammar)\n",
    "ของภาษาโปรแกรมที่มีความถูกต้อง ภาษาโปรแกรมหลายภาษามีกฎไวยากรณ์ที่คล้าย ๆ กัน\n",
    "ในขณะที่ภาษาอื่น ๆ มีการออกแบบไวยากรณ์ที่ไม่ซ้ํากัน ตัวอย่างเช่น C และ Java ใช้ไวยากรณ์\n",
    "ที่คล้ายกันในขณะที่ภาษา Perl มีหลายลักษณะที่ไมRมีอยูRในภาษา C หรือ Java"
   ]
  },
  {
   "cell_type": "markdown",
   "metadata": {},
   "source": [
    "## 3.Identifiers คืออะไร"
   ]
  },
  {
   "cell_type": "code",
   "execution_count": null,
   "metadata": {},
   "outputs": [],
   "source": [
    "# คำตอบ\n",
    "Identifiers หมายถึง ชื่อที่ใช้ในการระบุตัวแปร ฟังก์ชัน คลาส โมดูล หรือวัตถุอื่น ๆ\n",
    "Identifiers เริ่มต้นด้วยตัวอักษร A ถึง Z หรือจาก a ถึง z หรือเครื่องหมายขีดล่าง (_) และสามารถ\n",
    "ตามด้วยตัวอักษรตั้งแต่หนึ่งตัวหรือมากกว่า หรืออาจตามด้วยเครื่องหมายเครื่องหมายขีดล่าง\n",
    "หรือตามด้วยตัวเลขตั้งแต่ 0 ถึง 9 โดยไพธอนไม่อนุญาตให้ใช้อักขระพิเศษภายใน Identifiers\n",
    "เช่น @, $ และ %\n",
    "\n"
   ]
  },
  {
   "cell_type": "markdown",
   "metadata": {},
   "source": [
    "## 4.คำสงวนในภาษาไพธอนคืออะไร และมีทั้งหมดกี่คำ"
   ]
  },
  {
   "cell_type": "code",
   "execution_count": null,
   "metadata": {},
   "outputs": [],
   "source": [
    "# คำตอบ\n",
    "รายการต่อไปนี้แสดงคําหลัก (Keywords) ของไพธอนเหล่านี้เป็นคําสงวน และเราเองจะ\n",
    "ไม่สามารถใช้เป็นค่าคงที่ หรือตัวแปร หรือ Identifiers อื่น ๆ ได้ คําหลักทั้งหมดของไพธอนจะใช้\n",
    "อักษรตัวพิมพ์เล็กเท่านั้น ประกอบไปด้วยคําดังต่อไปนี้\n",
    "and, as, assert, break, class, continue, def, del, elif, else,\n",
    "except, exec, finally, for, from, global, if, import, in, is, lambda,\n",
    "not, or, pass, print, raise, return, try, while, with, yield\n"
   ]
  },
  {
   "cell_type": "markdown",
   "metadata": {},
   "source": [
    "## 5.จงเขียนโปรแกรมไพธอนเพื่อรับข้อมูล ที่เป็นชื่อผู้ใช้งานจากแป้นพิมพ์และแสดงออกทางหน้าจอ"
   ]
  },
  {
   "cell_type": "code",
   "execution_count": 20,
   "metadata": {},
   "outputs": [
    {
     "name": "stdin",
     "output_type": "stream",
     "text": [
      "your name Katawut Phongrasri\n"
     ]
    },
    {
     "name": "stdout",
     "output_type": "stream",
     "text": [
      "Katawut Phongrasri\n"
     ]
    }
   ],
   "source": [
    "# พิมพ์โค้ดโปรแกรมด้านล่างนี้\n",
    "a = input(\"your name\")\n",
    "\n",
    "print(a)"
   ]
  },
  {
   "cell_type": "markdown",
   "metadata": {},
   "source": [
    "## 6.จงเขียนโปรแกรมเพื่อแสดงค่าของ pi คือ 3.14159 ออกทางหน้าจอโดยทำการกำหนดรูปแบบในการแสดงผลดังต่อไปนี้\n",
    "\n",
    "- pi = 3\n",
    "- pi = 3.14\n",
    "- pi = 3.1416\n"
   ]
  },
  {
   "cell_type": "code",
   "execution_count": 3,
   "metadata": {},
   "outputs": [
    {
     "name": "stdout",
     "output_type": "stream",
     "text": [
      "pi : 3\n",
      "pi : 3.14\n",
      "pi : 3.1416\n"
     ]
    }
   ],
   "source": [
    "# พิมพ์โค้ดโปรแกรมด้านล่างนี้\n",
    "pi = 3.1416\n",
    "\n",
    "print(\"pi : {0:.0f}\".format(pi))\n",
    "print(\"pi : {0:.2f}\".format(pi))\n",
    "print(\"pi : {0:.4f}\".format(pi))\n"
   ]
  },
  {
   "cell_type": "markdown",
   "metadata": {},
   "source": []
  },
  {
   "cell_type": "markdown",
   "metadata": {},
   "source": [
    "## 7.\tจงเขียนโปรแกรมที่แสดงคำว่า \"dog\", \"cat\", \"bat\" ออกทางหน้าจอ โดยกำหนดรูปแบบในการแสดงดังต่อไปนี้"
   ]
  },
  {
   "cell_type": "code",
   "execution_count": null,
   "metadata": {},
   "outputs": [],
   "source": [
    "\"\"\" \n",
    "|dog       |   cat    |       bat| \n",
    "\"\"\""
   ]
  },
  {
   "cell_type": "code",
   "execution_count": 18,
   "metadata": {},
   "outputs": [
    {
     "name": "stdout",
     "output_type": "stream",
     "text": [
      "|dog        |   cat    |        bat|\n"
     ]
    }
   ],
   "source": [
    "# พิมพ์โค้ดโปรแกรมด้านล่างนี้\n",
    "print(\"|{0:<10} |{1:^10}| {2:>10}|\".format(\"dog\", \"cat\", \"bat\"))"
   ]
  },
  {
   "cell_type": "markdown",
   "metadata": {},
   "source": [
    "## 8.\tจงเขียนโปรแกรมที่แสดงคำว่า \"dog\", \"cat\", \"bat\" ออกทางหน้าจอ โดยกำหนดรูปแบบในการแสดงดังต่อไปนี้"
   ]
  },
  {
   "cell_type": "code",
   "execution_count": 12,
   "metadata": {},
   "outputs": [
    {
     "data": {
      "text/plain": [
       "' \\n|dog*******|***cat****|*******bat| \\n'"
      ]
     },
     "execution_count": 12,
     "metadata": {},
     "output_type": "execute_result"
    }
   ],
   "source": [
    "\"\"\" \n",
    "|dog*******|***cat****|*******bat| \n",
    "\"\"\""
   ]
  },
  {
   "cell_type": "code",
   "execution_count": 19,
   "metadata": {},
   "outputs": [
    {
     "name": "stdout",
     "output_type": "stream",
     "text": [
      "|dog******* |***cat****| *******bat|\n"
     ]
    }
   ],
   "source": [
    "# พิมพ์โค้ดโปรแกรมด้านล่างนี้\n",
    "print(\"|{0:*<10} |{1:*^10}| {2:*>10}|\".format(\"dog\", \"cat\", \"bat\"))\n"
   ]
  },
  {
   "cell_type": "code",
   "execution_count": null,
   "metadata": {},
   "outputs": [],
   "source": []
  }
 ],
 "metadata": {
  "interpreter": {
   "hash": "40d3a090f54c6569ab1632332b64b2c03c39dcf918b08424e98f38b5ae0af88f"
  },
  "kernelspec": {
   "display_name": "Python 3 (ipykernel)",
   "language": "python",
   "name": "python3"
  },
  "language_info": {
   "codemirror_mode": {
    "name": "ipython",
    "version": 3
   },
   "file_extension": ".py",
   "mimetype": "text/x-python",
   "name": "python",
   "nbconvert_exporter": "python",
   "pygments_lexer": "ipython3",
   "version": "3.11.5"
  }
 },
 "nbformat": 4,
 "nbformat_minor": 4
}
