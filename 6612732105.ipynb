{
 "cells": [
  {
   "cell_type": "code",
   "execution_count": null,
   "id": "28cd427d-e594-4469-9eb6-c2831610db18",
   "metadata": {},
   "outputs": [],
   "source": [
    "'''\n",
    "นายคฑาวุธ ผ่องราษี 6612732105\n",
    "'''"
   ]
  },
  {
   "cell_type": "code",
   "execution_count": 9,
   "id": "91d448a9-9df6-4ba1-95e4-5379070f1ddd",
   "metadata": {
    "tags": []
   },
   "outputs": [
    {
     "name": "stdout",
     "output_type": "stream",
     "text": [
      " * \n",
      " *  * \n",
      " *  *  * \n",
      " *  *  *  * \n",
      " *  *  *  *  * \n"
     ]
    }
   ],
   "source": [
    "for i in range(1, 6):\n",
    "    print(\" * \" * i)"
   ]
  },
  {
   "cell_type": "code",
   "execution_count": 58,
   "id": "8595e4d8-e376-4ff5-b763-ba845d34bbde",
   "metadata": {
    "tags": []
   },
   "outputs": [
    {
     "name": "stdout",
     "output_type": "stream",
     "text": [
      "           *\n",
      "         * *\n",
      "       * * *\n",
      "     * * * *\n",
      "   * * * * *\n",
      " * * * * * *\n"
     ]
    }
   ],
   "source": [
    "num = 6 \n",
    "end = num - 1\n",
    "for i in range(0, num):\n",
    "    for j in range(0, num):\n",
    "        if j >= end - i:\n",
    "            print(\" *\", end=\"\")\n",
    "        else:\n",
    "            print(\" \", end=\" \")\n",
    "    print()\n",
    " "
   ]
  },
  {
   "cell_type": "code",
   "execution_count": 4,
   "id": "c4484b7a-ddf0-4245-8c5a-4488ceaea299",
   "metadata": {
    "tags": []
   },
   "outputs": [
    {
     "name": "stdout",
     "output_type": "stream",
     "text": [
      " *  *  *  *  * \n",
      " *  *  *  * \n",
      " *  *  * \n",
      " *  * \n",
      " * \n"
     ]
    }
   ],
   "source": [
    "for i in range(5, 0, -1):\n",
    "    print(\" * \" * i)"
   ]
  },
  {
   "cell_type": "code",
   "execution_count": 105,
   "id": "cea76067-d22c-45b8-958b-24b5e1aefa28",
   "metadata": {
    "tags": []
   },
   "outputs": [
    {
     "name": "stdout",
     "output_type": "stream",
     "text": [
      " *   *   *   *   *   *  \n",
      "   *   *   *   *   *  \n",
      "     *   *   *   *  \n",
      "       *   *   *  \n",
      "         *   *  \n",
      "           *  \n",
      "            \n",
      "            \n",
      "            \n",
      "            \n",
      "            \n"
     ]
    }
   ],
   "source": [
    "n = 6 \n",
    "end = n - 1\n",
    "for i in range(-5, n):\n",
    "    for j in range(0, n):\n",
    "        if j >= end + i :\n",
    "            print(\" *\", end=\"  \")\n",
    "        else:\n",
    "            print(\"  \", end=\"\")\n",
    "    print()"
   ]
  },
  {
   "cell_type": "code",
   "execution_count": null,
   "id": "c6e4efb4-aa86-491a-a77f-84acc3184164",
   "metadata": {},
   "outputs": [],
   "source": []
  }
 ],
 "metadata": {
  "kernelspec": {
   "display_name": "Python 3 (ipykernel)",
   "language": "python",
   "name": "python3"
  },
  "language_info": {
   "codemirror_mode": {
    "name": "ipython",
    "version": 3
   },
   "file_extension": ".py",
   "mimetype": "text/x-python",
   "name": "python",
   "nbconvert_exporter": "python",
   "pygments_lexer": "ipython3",
   "version": "3.11.5"
  }
 },
 "nbformat": 4,
 "nbformat_minor": 5
}
