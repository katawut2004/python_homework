{
 "cells": [
  {
   "cell_type": "code",
   "execution_count": null,
   "id": "2d2b0634-57c2-4d48-a254-4ff55913d730",
   "metadata": {},
   "outputs": [],
   "source": [
    "'''\n",
    "ให้อ่านไฟล์จาก sanook.txt \n",
    "และนำข้อความเฉพาะบรรทัด คี่\n",
    "ไปเขียนใหม่ในไฟล์ ชื่อ new_sanook.txt\n",
    "'''\n",
    "with open('./data/sanook.txt', encoding='utf-8') as f:\n",
    "    line = f.readline()\n",
    "    line_num = 1\n",
    "    while line:\n",
    "        print(\"Line {}: {}\".format(line_num, line.strip()))\n",
    "        line = f.readline()\n",
    "        line_num += 1"
   ]
  },
  {
   "cell_type": "code",
   "execution_count": null,
   "id": "287a5d60-5d4b-40d4-986b-0033fb227b8e",
   "metadata": {},
   "outputs": [],
   "source": [
    "with open('./data/sanook.txt', encoding='utf-8') as inpf, open('./data/new_sanook.txt', 'w', encoding='utf-8') as opf:\n",
    "    line = inpf.readline()\n",
    "    line_num = 1\n",
    "    \n",
    "    while line:\n",
    "        if line_num % 2 != 0:\n",
    "            print(\"Line {}: {}\".format(line_num, line.strip()))\n",
    "            opf.write(line)\n",
    "\n",
    "        line = inpf.readline()\n",
    "        line_num += 1"
   ]
  },
  {
   "cell_type": "code",
   "execution_count": null,
   "id": "95d05439-42cf-4d85-858f-45a9ff1b5a8e",
   "metadata": {},
   "outputs": [],
   "source": [
    "lt = []\n",
    "\n",
    "with open ('./data/sanook.txt', encoding='utf-8') as f:\n",
    "    line = f.readline()\n",
    "    line_num = 1\n",
    "    while line:\n",
    "        if line_num % 2 != 0 :\n",
    "            lt.append(line)\n",
    "            line = f.readline()\n",
    "            line_num += 1\n",
    "            \n",
    "for line in lt:\n",
    "    with open('./data/sanook_new.txt','w', encoding='utf-8') as f:\n",
    "        f.write(line)"
   ]
  },
  {
   "cell_type": "code",
   "execution_count": null,
   "id": "c508a3c8-a2e8-4c18-b2d0-e25a203b2b17",
   "metadata": {},
   "outputs": [],
   "source": []
  },
  {
   "cell_type": "code",
   "execution_count": 2,
   "id": "762eb3f0-d3b8-4f69-85ae-f1b1a7ff493b",
   "metadata": {
    "tags": []
   },
   "outputs": [],
   "source": [
    "#จงเขียน Function เพื่อนับจำนวน AT ที่อยู่ในสานอักขระ dna_seq"
   ]
  },
  {
   "cell_type": "code",
   "execution_count": 3,
   "id": "ee30219a-1f55-4c98-862a-e7042ecbe75a",
   "metadata": {
    "tags": []
   },
   "outputs": [],
   "source": [
    "dna_seq = 'ACGCGCAGATAGGACGCAGGGAGGGAGGAGGTTTTAGAAGAGGATAGACCCA'"
   ]
  },
  {
   "cell_type": "code",
   "execution_count": 13,
   "id": "a4cf4627-7967-46f7-a4f5-a5ad8b68090d",
   "metadata": {
    "tags": []
   },
   "outputs": [
    {
     "name": "stdout",
     "output_type": "stream",
     "text": [
      "23\n"
     ]
    }
   ],
   "source": [
    "dna_seq = 'ACGCGCAGATAGGACGCAGGGAGGGAGGAGGTTTTAGAAGAGGATAGACCCA'\n",
    "\n",
    "def count_AT(dna_seq):\n",
    "    count = 0\n",
    "    for i in dna_seq:\n",
    "        if i == 'A' or i == 'T':\n",
    "            count += 1\n",
    "    return count\n",
    "a = count_AT(dna_seq)\n",
    "print(a)\n"
   ]
  },
  {
   "cell_type": "code",
   "execution_count": 23,
   "id": "44000071-9c2d-4a9e-a529-8ae0ebd4027b",
   "metadata": {
    "tags": []
   },
   "outputs": [
    {
     "name": "stdout",
     "output_type": "stream",
     "text": [
      "AT :  2\n"
     ]
    }
   ],
   "source": [
    "#ของอาจารย์\n",
    "def countDNA(dna):\n",
    "    count = 0 \n",
    "    for i in range(0, len(dna)-1): \n",
    "        if dna[i]+dna[i+1] == \"AT\":\n",
    "            count += 1\n",
    "    print(\"AT : \", count)\n",
    "    \n",
    "countDNA(dna_seq)"
   ]
  },
  {
   "cell_type": "code",
   "execution_count": 14,
   "id": "bc37025e-7808-4ece-ada4-ba75069440cd",
   "metadata": {
    "tags": []
   },
   "outputs": [],
   "source": [
    "#มีตัว Lemur กี่สายพันธุ์ และมีสายพันธุ์ละกี่ตัว"
   ]
  },
  {
   "cell_type": "code",
   "execution_count": 42,
   "id": "e057781e-1fcd-4c0f-95b8-efb81be8c1a5",
   "metadata": {
    "tags": []
   },
   "outputs": [],
   "source": [
    "lemurs = ['White-headed lemur', 'Gray-headed lemur', \n",
    "          'Common brown lemur', 'Collared brown lemur', \n",
    "          'Red lemur', 'Collared brown lemur', 'Red-fronted lemur', \n",
    "          'Red-bellied lemur', 'Collared brown lemur', 'Crowned lemur', \n",
    "          'Red lemur', 'Crowned lemur', 'Blue-eyed black lemur', \n",
    "          'Common brown lemur', 'Mongoose lemur', 'Common brown lemur', \n",
    "          \"Sanford's brown lemur\", 'White-headed lemur', 'Black lemur', \n",
    "          'Mongoose lemur', 'Red-bellied lemur', 'Red-fronted lemur', \n",
    "          'Blue-eyed black lemur', 'Collared brown lemur', \n",
    "          'Blue-eyed black lemur', 'White-headed lemur', 'Red lemur', \n",
    "          'Red-bellied lemur', 'Gray-headed lemur', 'Red-bellied lemur', \n",
    "          'Red lemur', 'Common brown lemur', 'Mongoose lemur', 'Red lemur', \n",
    "          'Common brown lemur', \"Sanford's brown lemur\"]"
   ]
  },
  {
   "cell_type": "code",
   "execution_count": 45,
   "id": "6c226ad0-c4f8-45b1-aa0f-f8189657344b",
   "metadata": {
    "tags": []
   },
   "outputs": [
    {
     "name": "stdout",
     "output_type": "stream",
     "text": [
      "{'White-headed lemur': 2, 'Gray-headed lemur': 1, 'Common brown lemur': 4, 'Collared brown lemur': 3, 'Red lemur': 4, 'Red-fronted lemur': 1, 'Red-bellied lemur': 3, 'Crowned lemur': 1, 'Blue-eyed black lemur': 2, 'Mongoose lemur': 2, \"Sanford's brown lemur\": 1, 'Black lemur': 0}\n"
     ]
    }
   ],
   "source": [
    "def lemursCount(lemurs_lt):\n",
    "    dt = {}\n",
    "    for lemur in lemurs_lt:\n",
    "        if lemur in dt:\n",
    "            dt[lemur] += 1\n",
    "        else:\n",
    "             dt[lemur] = 0 \n",
    "    print(dt)\n",
    "    \n",
    "    \n",
    "lemursCount(lemurs)"
   ]
  },
  {
   "cell_type": "code",
   "execution_count": null,
   "id": "cf4ef54e-bd4a-4e9e-ae22-4a49908bb2e5",
   "metadata": {},
   "outputs": [],
   "source": []
  }
 ],
 "metadata": {
  "kernelspec": {
   "display_name": "Python 3 (ipykernel)",
   "language": "python",
   "name": "python3"
  },
  "language_info": {
   "codemirror_mode": {
    "name": "ipython",
    "version": 3
   },
   "file_extension": ".py",
   "mimetype": "text/x-python",
   "name": "python",
   "nbconvert_exporter": "python",
   "pygments_lexer": "ipython3",
   "version": "3.11.5"
  }
 },
 "nbformat": 4,
 "nbformat_minor": 5
}
