{
 "cells": [
  {
   "cell_type": "code",
   "execution_count": null,
   "id": "5aef379b-bd86-41c0-9f4f-0e6d0b705765",
   "metadata": {},
   "outputs": [],
   "source": [
    "\"นาย คฑาวุธ ผาองราษี 6612732105\""
   ]
  },
  {
   "cell_type": "code",
   "execution_count": 78,
   "id": "7995bc18-a9f1-4c93-8394-0a6cb33c8e4b",
   "metadata": {
    "tags": []
   },
   "outputs": [],
   "source": [
    "class Cat():\n",
    "    def __init__(self, name, gender, age, weight, color, cat_type):\n",
    "        self.type = cat_type\n",
    "        self.color = color\n",
    "        self.weight = weight\n",
    "        self.age = age\n",
    "        self.name = name\n",
    "        self.gender = gender\n",
    "        \n",
    "        #private attribute\n",
    "        self.__age = age\n",
    "        self.__name = name\n",
    "        self.__weight = weight\n",
    "        \n",
    "    #getter Method\n",
    "    def getName(self):\n",
    "        return self.__name\n",
    "    \n",
    "    def getAge(self):\n",
    "        return self.__age\n",
    "    \n",
    "    #setter Method\n",
    "    def setAge(self, age):\n",
    "        if self.__age < age:\n",
    "            self.__age = age\n",
    "        else:\n",
    "            print(\"Eoror, can not set age\")\n",
    "        \n",
    "\n",
    "    def meowing(self):\n",
    "        print(\"{} ร้องเหมียวๆ\".format(self.name))\n",
    "    \n",
    "    def walkAround(self):\n",
    "        print(\"{} เดินไป เดินมา\".format(self.name))\n",
    "        \n",
    "    def eat(self):\n",
    "        print(\"{} กำลังกินอาหาร\".format(self.name))"
   ]
  },
  {
   "cell_type": "code",
   "execution_count": 79,
   "id": "85f1ef4a-2c66-4459-9338-b4f1078758f7",
   "metadata": {
    "tags": []
   },
   "outputs": [],
   "source": [
    "cat1 = Cat(\"น้องบิ๊ก\", \"Femal\", 3, 2.5, \"Brown\", \"แมวไทย\")\n",
    "cat2 = Cat(\"น้องจี้\", \"Male\", 1, 1.5, \"Gold\", \"แมวเปอร์เซียร์\")"
   ]
  },
  {
   "cell_type": "code",
   "execution_count": 80,
   "id": "3b0ab4fb-d65a-421e-bc1e-5492a4fa3505",
   "metadata": {
    "tags": []
   },
   "outputs": [
    {
     "data": {
      "text/plain": [
       "'น้องบิ๊ก'"
      ]
     },
     "execution_count": 80,
     "metadata": {},
     "output_type": "execute_result"
    }
   ],
   "source": [
    "cat1.getName()"
   ]
  },
  {
   "cell_type": "code",
   "execution_count": 116,
   "id": "68eb4d14-4d84-4f5a-aa9d-4e36a25a76f2",
   "metadata": {
    "tags": []
   },
   "outputs": [
    {
     "data": {
      "text/plain": [
       "4"
      ]
     },
     "execution_count": 116,
     "metadata": {},
     "output_type": "execute_result"
    }
   ],
   "source": [
    "cat1.getAge()\n"
   ]
  },
  {
   "cell_type": "code",
   "execution_count": 82,
   "id": "f63f31e2-0e45-4a99-a94a-45b04e1a706b",
   "metadata": {
    "tags": []
   },
   "outputs": [
    {
     "data": {
      "text/plain": [
       "4"
      ]
     },
     "execution_count": 82,
     "metadata": {},
     "output_type": "execute_result"
    }
   ],
   "source": [
    "cat1.setAge(4)\n",
    "cat1.getAge()"
   ]
  },
  {
   "cell_type": "code",
   "execution_count": 83,
   "id": "a2834bd3-dada-4c5f-bbf9-47e69a9288ef",
   "metadata": {
    "tags": []
   },
   "outputs": [
    {
     "name": "stdout",
     "output_type": "stream",
     "text": [
      "Eoror, can not set age\n"
     ]
    },
    {
     "data": {
      "text/plain": [
       "4"
      ]
     },
     "execution_count": 83,
     "metadata": {},
     "output_type": "execute_result"
    }
   ],
   "source": [
    "cat1.setAge(2)\n",
    "cat1.getAge()"
   ]
  },
  {
   "cell_type": "code",
   "execution_count": 47,
   "id": "ae9c80b2-0d51-4a6e-ad2e-50cd86466d31",
   "metadata": {
    "tags": []
   },
   "outputs": [
    {
     "name": "stdout",
     "output_type": "stream",
     "text": [
      "น้องบิ๊ก ร้องเหมียวๆ\n",
      "น้องจี้ ร้องเหมียวๆ\n"
     ]
    }
   ],
   "source": [
    "cat1.meowing()\n",
    "cat2.meowing()"
   ]
  },
  {
   "cell_type": "code",
   "execution_count": 84,
   "id": "efa52a1d-7fca-4a0f-b48f-1feb9de76af2",
   "metadata": {
    "tags": []
   },
   "outputs": [
    {
     "name": "stdout",
     "output_type": "stream",
     "text": [
      "น้องบิ๊ก เดินไป เดินมา\n"
     ]
    },
    {
     "ename": "TypeError",
     "evalue": "Cat.walkAround() takes 1 positional argument but 2 were given",
     "output_type": "error",
     "traceback": [
      "\u001b[1;31m---------------------------------------------------------------------------\u001b[0m",
      "\u001b[1;31mTypeError\u001b[0m                                 Traceback (most recent call last)",
      "Cell \u001b[1;32mIn[84], line 2\u001b[0m\n\u001b[0;32m      1\u001b[0m cat1\u001b[38;5;241m.\u001b[39mwalkAround()\n\u001b[1;32m----> 2\u001b[0m cat2\u001b[38;5;241m.\u001b[39mwalkAround(\u001b[38;5;241m4\u001b[39m)\n",
      "\u001b[1;31mTypeError\u001b[0m: Cat.walkAround() takes 1 positional argument but 2 were given"
     ]
    }
   ],
   "source": [
    "cat1.walkAround()\n",
    "cat2.walkAround()"
   ]
  },
  {
   "cell_type": "code",
   "execution_count": 49,
   "id": "de69dce1-7165-4274-b2c1-157fc33e18b0",
   "metadata": {
    "tags": []
   },
   "outputs": [
    {
     "name": "stdout",
     "output_type": "stream",
     "text": [
      "น้องบิ๊ก กำลังกินอาหาร\n",
      "น้องจี้ กำลังกินอาหาร\n"
     ]
    }
   ],
   "source": [
    "cat1.eat()\n",
    "cat2.eat()"
   ]
  },
  {
   "cell_type": "code",
   "execution_count": null,
   "id": "18ae61c7-fbba-4879-a95f-465468e01100",
   "metadata": {},
   "outputs": [],
   "source": [
    "'''\n",
    "สร้างคลาสของ บุคคล\n",
    "โดย บุคคลจะต้องมีคุณสมบัติ ดังต่อไปนี้\n",
    "\n",
    "1.หมายเลขบัตรประชาชน\n",
    "2.ชื่อ\n",
    "3.สกุล\n",
    "4.อายุ\n",
    "5.เพศ\n",
    "\n",
    "และกำหนดให้\n",
    "\n",
    "หมายเลขบัตรประชาชนม, เพศ คือ สิ่งที่เปลี่ยนแปลงไม่ได้\n",
    "'''"
   ]
  },
  {
   "cell_type": "code",
   "execution_count": 141,
   "id": "d8c80157-f844-4367-9318-4bb01df580a4",
   "metadata": {
    "tags": []
   },
   "outputs": [],
   "source": [
    "class Person():\n",
    "    def __init__(self, citizen_id, name, lastname, age, gender):\n",
    "        self.id = citizen_id\n",
    "        self.gender = gender\n",
    "        self.name = name\n",
    "        self.lastname = lastname\n",
    "        self.age = age \n",
    "        \n",
    "        #private attribtue\n",
    "        self.__id = citizen_id\n",
    "        self.__gender = gender\n",
    "    \n",
    "    #getter Mathod\n",
    "    def getId(self):\n",
    "        return self.__id\n",
    "    def getGender(self):\n",
    "        return self.__gender\n",
    "    def getAge(self):\n",
    "        return self.__age\n",
    "    \n",
    "    #setter Mathod\n",
    "    def setAge(self, age):\n",
    "        if self.__age < age:\n",
    "            self.__age = age\n",
    "        else:\n",
    "            print(\"Eoror, cat not set age\")\n",
    "\n",
    "    def name(self):\n",
    "        print(\"{}\".format(self.name))\n",
    "        \n",
    "    def lastname(self):\n",
    "        print(\"{}\".format(self.name))\n",
    "    \n",
    "    "
   ]
  },
  {
   "cell_type": "code",
   "execution_count": 166,
   "id": "ee1c9315-9fc0-47a1-8bd6-751899ea4854",
   "metadata": {
    "tags": []
   },
   "outputs": [],
   "source": [
    "person1 = Person( 6612732131, \"สมพงษ์\", \"ใยคำ\", 80, \"หญิง\")\n",
    "person2 = Person( 6612732101, \"กรวีร์\", \"จูมจันทร์\", 85, \"กระเทย\")"
   ]
  },
  {
   "cell_type": "code",
   "execution_count": 167,
   "id": "7b4acff8-6df1-4115-ab86-acf6a6156fb0",
   "metadata": {
    "tags": []
   },
   "outputs": [
    {
     "data": {
      "text/plain": [
       "(6612732131, 'สมพงษ์', 'ใยคำ', 'หญิง', 80)"
      ]
     },
     "execution_count": 167,
     "metadata": {},
     "output_type": "execute_result"
    }
   ],
   "source": [
    "person1.getId(), person1.name, person1.lastname, person1.getGender() ,person1.age"
   ]
  },
  {
   "cell_type": "code",
   "execution_count": 168,
   "id": "5ba1deca-c3f8-4373-9e86-cef4f7639b7f",
   "metadata": {
    "tags": []
   },
   "outputs": [
    {
     "data": {
      "text/plain": [
       "(6612732101, 'กรวีร์', 'จูมจันทร์', 'กระเทย', 85)"
      ]
     },
     "execution_count": 168,
     "metadata": {},
     "output_type": "execute_result"
    }
   ],
   "source": [
    "person2.getId(), person2.name, person2.lastname, person2.getGender() ,person2.age"
   ]
  },
  {
   "cell_type": "code",
   "execution_count": null,
   "id": "83e156d7-887b-4bf0-8ad3-ea9808cb1418",
   "metadata": {},
   "outputs": [],
   "source": []
  }
 ],
 "metadata": {
  "kernelspec": {
   "display_name": "Python 3 (ipykernel)",
   "language": "python",
   "name": "python3"
  },
  "language_info": {
   "codemirror_mode": {
    "name": "ipython",
    "version": 3
   },
   "file_extension": ".py",
   "mimetype": "text/x-python",
   "name": "python",
   "nbconvert_exporter": "python",
   "pygments_lexer": "ipython3",
   "version": "3.11.5"
  }
 },
 "nbformat": 4,
 "nbformat_minor": 5
}
