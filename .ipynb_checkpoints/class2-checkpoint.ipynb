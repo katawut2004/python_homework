{
 "cells": [
  {
   "cell_type": "code",
   "execution_count": 106,
   "id": "563cfaf1-4583-48a2-a585-ad6a587e1fe4",
   "metadata": {},
   "outputs": [],
   "source": [
    "class Vihicle():\n",
    "    def __init__(self,brand, model, year):\n",
    "        self.brand = brand\n",
    "        self.model = model\n",
    "        self.year = year\n",
    "    \n",
    "    def start(self):\n",
    "        print(\"{} {} {} is started\".format(self.brand, self.model, self.year))\n",
    "    \n",
    "    def breaking(self):\n",
    "        print(\"{} {} {} is breaked\".format(self.brand, self.model, self.year))\n",
    "        \n",
    "    def stop(self):\n",
    "        print(\"{} {} {} is stoped\".format(self.brand, self.model, self.year))"
   ]
  },
  {
   "cell_type": "code",
   "execution_count": 107,
   "id": "ae0b808f-3e6a-4344-b5b9-9375ac3ea35c",
   "metadata": {
    "tags": []
   },
   "outputs": [],
   "source": [
    "vihicle = Vihicle(\"BMW\", \"i8\", \"2024\")"
   ]
  },
  {
   "cell_type": "code",
   "execution_count": 114,
   "id": "490b894b-53c3-419c-ad1c-01065d583239",
   "metadata": {
    "tags": []
   },
   "outputs": [],
   "source": [
    "class Truck(Vihicle):\n",
    "    def __init__(self,brand, model, year):\n",
    "        super().__init__(brand, model, year)\n",
    "    \n",
    "    def dump(self):\n",
    "        print(\"truck is dump\")\n",
    "    "
   ]
  },
  {
   "cell_type": "code",
   "execution_count": 115,
   "id": "f4e98c49-e69d-4a1b-bb52-dead5b085c37",
   "metadata": {
    "tags": []
   },
   "outputs": [
    {
     "name": "stdout",
     "output_type": "stream",
     "text": [
      "ford R-38 2026 is started\n"
     ]
    }
   ],
   "source": [
    "truck = Truck(\"ford\", \"R-38\", \"2026\")\n",
    "\n",
    "truck.start()"
   ]
  },
  {
   "cell_type": "code",
   "execution_count": 128,
   "id": "43e58e4a-612d-4f51-86e6-de24df806f22",
   "metadata": {
    "tags": []
   },
   "outputs": [
    {
     "name": "stdout",
     "output_type": "stream",
     "text": [
      "BMW i8 2024 is started\n"
     ]
    }
   ],
   "source": [
    "vihicle.start()"
   ]
  },
  {
   "cell_type": "code",
   "execution_count": 126,
   "id": "9e2e8a07-d6be-4f63-bff7-96ac81192473",
   "metadata": {
    "tags": []
   },
   "outputs": [],
   "source": [
    "class ElectrictTruck(Truck):\n",
    "    def __init__(self,brand, model, year):\n",
    "        super().__init__(brand, model, year)\n",
    "        \n",
    "    def start(self):\n",
    "        print(\"{} {} {} is started, open light\".format(self.brand, self.model, self.year))\n",
    "        \n",
    "    def charge(self):\n",
    "        print(\"eTruck is chaging!!\")"
   ]
  },
  {
   "cell_type": "code",
   "execution_count": 127,
   "id": "102e9493-1c9d-434b-b173-6bd22b620f2e",
   "metadata": {
    "tags": []
   },
   "outputs": [
    {
     "name": "stdout",
     "output_type": "stream",
     "text": [
      "Tasla Model 4 2025 is started, open light\n"
     ]
    }
   ],
   "source": [
    "etruck = ElectrictTruck(\"Tasla\", \"Model 4\", 2025)\n",
    "\n",
    "etruck.start()"
   ]
  },
  {
   "cell_type": "code",
   "execution_count": 132,
   "id": "b862f055-dafe-49c3-8e06-6df4b9100910",
   "metadata": {
    "tags": []
   },
   "outputs": [],
   "source": [
    "class Clock():\n",
    "    def __init__(self):\n",
    "        pass\n",
    "    \n",
    "    def showTime(self):\n",
    "        print(\"This time is .....\")\n",
    "        \n",
    "class Calendar():\n",
    "    def __init__(self):\n",
    "        pass\n",
    "        \n",
    "    def showData(self):\n",
    "        print(\"Today is .....\")"
   ]
  },
  {
   "cell_type": "code",
   "execution_count": 133,
   "id": "2c027323-64f1-49ab-af0a-bc912f3aee4d",
   "metadata": {
    "tags": []
   },
   "outputs": [],
   "source": [
    "class DigiCal(Clock, Calendar):\n",
    "    pass"
   ]
  },
  {
   "cell_type": "code",
   "execution_count": 134,
   "id": "92f1edc8-94f7-48dc-8fc2-7e2c91011bc9",
   "metadata": {
    "tags": []
   },
   "outputs": [
    {
     "name": "stdout",
     "output_type": "stream",
     "text": [
      "This time is .....\n",
      "Today is .....\n"
     ]
    }
   ],
   "source": [
    "digit_cal = DigiCal()\n",
    "\n",
    "digit_cal.showTime()\n",
    "digit_cal.showData()"
   ]
  },
  {
   "cell_type": "code",
   "execution_count": 135,
   "id": "c36722d1-e1c6-404e-ab7f-6fdb0f28a8d5",
   "metadata": {
    "tags": []
   },
   "outputs": [],
   "source": [
    "class Cat():\n",
    "    def __init__(self):\n",
    "        pass\n",
    "    \n",
    "    def meow(self):\n",
    "        print(\"hong hong\")"
   ]
  },
  {
   "cell_type": "code",
   "execution_count": 137,
   "id": "61f6413a-39cf-42f9-ae89-85a718fd75bb",
   "metadata": {
    "tags": []
   },
   "outputs": [],
   "source": [
    "class NewCat(Cat):\n",
    "    def __init__(self):\n",
    "        pass\n",
    "        \n",
    "    def meow(self):\n",
    "        print(\"meow meow\")\n",
    "    "
   ]
  },
  {
   "cell_type": "code",
   "execution_count": 140,
   "id": "9445d7dd-ec77-4616-a471-b250c835ba58",
   "metadata": {
    "tags": []
   },
   "outputs": [
    {
     "name": "stdout",
     "output_type": "stream",
     "text": [
      "meow meow\n"
     ]
    }
   ],
   "source": [
    "ncat = NewCat()\n",
    "\n",
    "ncat.meow()"
   ]
  },
  {
   "cell_type": "code",
   "execution_count": 139,
   "id": "54732469-41be-4fd0-8c2a-060f4380ffcd",
   "metadata": {
    "tags": []
   },
   "outputs": [
    {
     "name": "stdout",
     "output_type": "stream",
     "text": [
      "hong hong\n"
     ]
    }
   ],
   "source": [
    "cat = Cat()\n",
    "\n",
    "cat.meow()"
   ]
  },
  {
   "cell_type": "code",
   "execution_count": null,
   "id": "c7e55a87-05c9-4ddd-bd76-fcb67982f73b",
   "metadata": {},
   "outputs": [],
   "source": [
    "'''\n",
    "\n",
    "'''"
   ]
  }
 ],
 "metadata": {
  "kernelspec": {
   "display_name": "Python 3 (ipykernel)",
   "language": "python",
   "name": "python3"
  },
  "language_info": {
   "codemirror_mode": {
    "name": "ipython",
    "version": 3
   },
   "file_extension": ".py",
   "mimetype": "text/x-python",
   "name": "python",
   "nbconvert_exporter": "python",
   "pygments_lexer": "ipython3",
   "version": "3.11.5"
  }
 },
 "nbformat": 4,
 "nbformat_minor": 5
}
